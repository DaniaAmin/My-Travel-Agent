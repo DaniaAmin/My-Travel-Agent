{
  "cells": [
    {
      "cell_type": "markdown",
      "id": "7cc9dc0b",
      "metadata": {
        "id": "7cc9dc0b"
      },
      "source": [
        "# 🔍 Assignment: Build a Context-Aware LLM Agent Using LangChain\n",
        "\n",
        "##  Objective\n",
        "Design and implement your **own LLM-powered agent** using the LangChain ecosystem. This agent should:\n",
        "- Use at least **one tool**\n",
        "- Incorporate **function-calling**\n",
        "- Integrate **LangSmith** for observability\n",
        "- Implement a **fallback mechanism**\n",
        "- Bonus: Use the **Agentic** library to define a clear multi-step workflow\n"
      ]
    },
    {
      "cell_type": "markdown",
      "id": "7ca463ac",
      "metadata": {
        "id": "7ca463ac"
      },
      "source": [
        "\n",
        "\n",
        "```\n",
        "\n",
        "```\n",
        "\n",
        "##  Your Task\n",
        "- Choose a use case (e.g., travel planner, medical assistant, customer support bot, product recommender, etc.)\n",
        "- Build a custom tool (e.g., API wrapper, knowledge lookup, calculator)\n",
        "- Use LangChain agents to manage interaction\n",
        "- Integrate LangSmith to track runs\n",
        "- Handle failure gracefully with a fallback approach\n",
        "- Optionally add structured workflows with Agentic\n"
      ]
    },
    {
      "cell_type": "markdown",
      "id": "6pvYGLpBtsfg",
      "metadata": {
        "id": "6pvYGLpBtsfg"
      },
      "source": [
        "# ⛳ Your Trusted Travel Planner\n",
        "\n"
      ]
    },
    {
      "cell_type": "markdown",
      "id": "1e3RCqmpo0fG",
      "metadata": {
        "id": "1e3RCqmpo0fG"
      },
      "source": [
        "### Step 1: Install necessary Libraries!"
      ]
    },
    {
      "cell_type": "code",
      "execution_count": null,
      "id": "956bf8b3",
      "metadata": {
        "colab": {
          "base_uri": "https://localhost:8080/"
        },
        "collapsed": true,
        "id": "956bf8b3",
        "outputId": "fc8b811d-2f1b-4ab9-ba05-fa3f9d9955e4"
      },
      "outputs": [],
      "source": [
        "#necessary pip installations\n",
        "!pip install langchain langchain_openai langchain-community python-dotenv gradio agentic\n",
        "!pip install langsmith"
      ]
    },
    {
      "cell_type": "code",
      "execution_count": 103,
      "id": "751e9fa6",
      "metadata": {
        "id": "751e9fa6"
      },
      "outputs": [],
      "source": [
        "# Imports\n",
        "# Note : libraries will be installed depending on requirement\n",
        "import os\n",
        "import requests\n",
        "import uuid\n",
        "import gradio as gr\n",
        "from dotenv import load_dotenv\n",
        "from langchain.agents import initialize_agent, Tool\n",
        "from langchain.agents.agent_types import AgentType\n",
        "from langchain_openai import ChatOpenAI\n",
        "from langchain_community.tools.tavily_search import TavilySearchResults\n",
        "from langsmith import traceable\n"
      ]
    },
    {
      "cell_type": "markdown",
      "id": "c817f3c7",
      "metadata": {
        "id": "c817f3c7"
      },
      "source": [
        "##  Step 2: Set Up Keys\n",
        " You’ll need:\n",
        "- An OpenAI API key (for LLM calls)/ Groq API\n",
        "- A LangSmith API key (for logging and observability)"
      ]
    },
    {
      "cell_type": "code",
      "execution_count": 104,
      "id": "eaHf-bFMxm34",
      "metadata": {
        "id": "eaHf-bFMxm34"
      },
      "outputs": [],
      "source": [
        "#from google.colab import userdata\n",
        "#OPENAI_API_KEY = userdata.get('OpenAI')\n",
        "#TAVILY_API_KEY = ('Tavily')\n",
        "#RAPIDAPI_KEY = ('RapidAPI')"
      ]
    },
    {
      "cell_type": "code",
      "execution_count": 105,
      "id": "nHUVxfHFqLoS",
      "metadata": {
        "id": "nHUVxfHFqLoS"
      },
      "outputs": [],
      "source": [
        "load_dotenv()\n",
        "\n",
        "OPENAI_API_KEY = os.getenv(\"OPENAI_API_KEY\")\n",
        "TAVILY_API_KEY = os.getenv(\"TAVILY_API_KEY\")\n",
        "RAPIDAPI_KEY = os.getenv(\"RAPIDAPI_KEY\")\n",
        "\n",
        "#I'm using an .env file here (made in notepad++) to store environment variables"
      ]
    },
    {
      "cell_type": "code",
      "execution_count": 106,
      "id": "-B8fCJStqLj4",
      "metadata": {
        "id": "-B8fCJStqLj4"
      },
      "outputs": [],
      "source": [
        "if not OPENAI_API_KEY:\n",
        "    raise ValueError(\"OPENAI_API_KEY not found. Please set it in your .env file or environment variables.\")\n",
        "\n",
        "llm = ChatOpenAI(model=\"gpt-4.1-nano\", temperature=0, api_key=OPENAI_API_KEY)"
      ]
    },
    {
      "cell_type": "code",
      "execution_count": 107,
      "id": "dIoPhvSx3b6j",
      "metadata": {
        "id": "dIoPhvSx3b6j"
      },
      "outputs": [],
      "source": [
        "import os\n",
        "os.environ[\"LANGCHAIN_TRACING_V2\"] = \"true\"\n",
        "os.environ[\"LANGCHAIN_API_KEY\"] = \"YOUR_LANGSMITH_API_KEY\" # Replace with your actual LangSmith API Key\n",
        "os.environ[\"LANGCHAIN_PROJECT\"] = \"MyTravelAgent\""
      ]
    },
    {
      "cell_type": "markdown",
      "id": "2eb2c451",
      "metadata": {
        "id": "2eb2c451"
      },
      "source": [
        "##  Step 3: Define Custom Tools\n",
        " Build at least one tool (e.g., API, calculator, mock database lookup). Use decorators or `Tool` wrappers."
      ]
    },
    {
      "cell_type": "markdown",
      "id": "k0knFUK0PZTb",
      "metadata": {
        "id": "k0knFUK0PZTb"
      },
      "source": [
        "### === TOOL 1: Destination Recommender_ Function as a Tool ==="
      ]
    },
    {
      "cell_type": "code",
      "execution_count": 108,
      "id": "GPrW98a-OWtR",
      "metadata": {
        "id": "GPrW98a-OWtR"
      },
      "outputs": [],
      "source": [
        "def recommend_destinations(country: str) -> str:\n",
        "    suggestions = {\n",
        "        \"France\": \"Paris, Nice, Lyon, Bordeaux\",\n",
        "        \"Japan\": \"Tokyo, Kyoto, Osaka, Hokkaido\",\n",
        "        \"Italy\": \"Rome, Venice, Florence, Milan\",\n",
        "        \"USA\": \"New York, Los Angeles, Miami, Chicago\",\n",
        "        \"UAE\": \"Dubai, Abu Dhabi\",\n",
        "        \"Thailand\": \"Bangkok, Phuket, Chiang Mai\",\n",
        "        \"Turkey\": \"Istanbul, Cappadocia, Antalya\",\n",
        "        \"UK\": \"London, Edinburgh, Bath, Manchester\"\n",
        "    }\n",
        "    return suggestions.get(country, \"Sorry, I don’t have info for that country.\")\n",
        "\n",
        "destination_tool = Tool(\n",
        "    name=\"DestinationRecommender\",\n",
        "    func=recommend_destinations,\n",
        "    description=\"Suggests travel cities within a given country\"\n",
        ")"
      ]
    },
    {
      "cell_type": "markdown",
      "id": "3-jac6JUPfHB",
      "metadata": {
        "id": "3-jac6JUPfHB"
      },
      "source": [
        "### === TOOL 2: Hotel Booking via RapidAPI ==="
      ]
    },
    {
      "cell_type": "code",
      "execution_count": 112,
      "id": "vTQBrWe4vOGK",
      "metadata": {
        "colab": {
          "base_uri": "https://localhost:8080/"
        },
        "id": "vTQBrWe4vOGK",
        "outputId": "a017650b-de0f-4a8f-e350-40a2c2777a03"
      },
      "outputs": [
        {
          "name": "stdout",
          "output_type": "stream",
          "text": [
            "{'error': 404, 'message': '{\"message\":\"Endpoint \\'\\\\/v1\\\\/hotels\\\\/search\\' does not exist\"}'}\n"
          ]
        }
      ],
      "source": [
        "import requests\n",
        "\n",
        "def create_hotel_booking(location, check_in, check_out, budget, adults=1, children=0, rooms=1):\n",
        "    url = \"https://booking-com15.p.rapidapi.com/v1/hotels/search\"\n",
        "\n",
        "    querystring = {\n",
        "        \"location\": location,\n",
        "        \"checkin_date\": check_in,\n",
        "        \"checkout_date\": check_out,\n",
        "        \"adults\": str(adults),\n",
        "        \"children\": str(children),\n",
        "        \"rooms\": str(rooms),\n",
        "        \"currency\": \"USD\",\n",
        "        \"price_max\": str(budget)\n",
        "        # You can add more parameters as needed\n",
        "    }\n",
        "\n",
        "    headers = {\n",
        "        'x-rapidapi-key': \"f39e410c6bmshad955ee7a034f9dp103e71jsn04ceecae5446\",\n",
        "        'x-rapidapi-host': \"booking-com15.p.rapidapi.com\"\n",
        "    }\n",
        "\n",
        "    response = requests.get(url, headers=headers, params=querystring)\n",
        "\n",
        "    if response.status_code == 200:\n",
        "        return response.json()  # Process this response as needed\n",
        "    else:\n",
        "        return {\"error\": response.status_code, \"message\": response.text}\n",
        "\n",
        "# Example usage:\n",
        "booking_results = create_hotel_booking(\n",
        "    \"Tokyo, Japan\",\n",
        "    \"2025-12-25\",\n",
        "    \"2026-01-03\",\n",
        "    2000,\n",
        "    adults=2,           # Specify number of adults\n",
        "    children=0,         # Specify number of children\n",
        "    rooms=1             # Specify number of rooms\n",
        ")\n",
        "print(booking_results)"
      ]
    },
    {
      "cell_type": "code",
      "execution_count": 113,
      "id": "46DvuXWMsZlP",
      "metadata": {
        "id": "46DvuXWMsZlP"
      },
      "outputs": [],
      "source": [
        "hotel_tool = Tool(\n",
        "    name=\"HotelBooking\",\n",
        "    func=create_hotel_booking,\n",
        "    description=(\n",
        "        \"Use this to book hotels. Requires:\\n\"\n",
        "        \"- city: the city you're traveling to\\n\"\n",
        "        \"- check_in: check-in date (YYYY-MM-DD)\\n\"\n",
        "        \"- check_out: check-out date (YYYY-MM-DD)\\n\"\n",
        "        \"- guests: number of people\\n\"\n",
        "        \"- budget: low, medium, or high (optional)\"\n",
        "    )\n",
        ")"
      ]
    },
    {
      "cell_type": "markdown",
      "id": "zq69h0PJQAO2",
      "metadata": {
        "id": "zq69h0PJQAO2"
      },
      "source": [
        "### === TOOL 3: Tavily Travel Search ==="
      ]
    },
    {
      "cell_type": "code",
      "execution_count": 114,
      "id": "vQRze1ZAQSsQ",
      "metadata": {
        "colab": {
          "base_uri": "https://localhost:8080/"
        },
        "collapsed": true,
        "id": "vQRze1ZAQSsQ",
        "outputId": "8b977815-3a59-463d-8465-9866b53901e3"
      },
      "outputs": [
        {
          "name": "stdout",
          "output_type": "stream",
          "text": [
            "Requirement already satisfied: langchain-tavily in /usr/local/lib/python3.11/dist-packages (0.2.3)\n",
            "Requirement already satisfied: aiohttp<4.0.0,>=3.11.14 in /usr/local/lib/python3.11/dist-packages (from langchain-tavily) (3.11.15)\n",
            "Requirement already satisfied: langchain<0.4.0,>=0.3.20 in /usr/local/lib/python3.11/dist-packages (from langchain-tavily) (0.3.25)\n",
            "Requirement already satisfied: langchain-core<0.4.0,>=0.3.15 in /usr/local/lib/python3.11/dist-packages (from langchain-tavily) (0.3.65)\n",
            "Requirement already satisfied: mypy<2.0.0,>=1.15.0 in /usr/local/lib/python3.11/dist-packages (from langchain-tavily) (1.16.1)\n",
            "Requirement already satisfied: requests<3.0.0,>=2.32.3 in /usr/local/lib/python3.11/dist-packages (from langchain-tavily) (2.32.3)\n",
            "Requirement already satisfied: aiohappyeyeballs>=2.3.0 in /usr/local/lib/python3.11/dist-packages (from aiohttp<4.0.0,>=3.11.14->langchain-tavily) (2.6.1)\n",
            "Requirement already satisfied: aiosignal>=1.1.2 in /usr/local/lib/python3.11/dist-packages (from aiohttp<4.0.0,>=3.11.14->langchain-tavily) (1.3.2)\n",
            "Requirement already satisfied: attrs>=17.3.0 in /usr/local/lib/python3.11/dist-packages (from aiohttp<4.0.0,>=3.11.14->langchain-tavily) (25.3.0)\n",
            "Requirement already satisfied: frozenlist>=1.1.1 in /usr/local/lib/python3.11/dist-packages (from aiohttp<4.0.0,>=3.11.14->langchain-tavily) (1.7.0)\n",
            "Requirement already satisfied: multidict<7.0,>=4.5 in /usr/local/lib/python3.11/dist-packages (from aiohttp<4.0.0,>=3.11.14->langchain-tavily) (6.4.4)\n",
            "Requirement already satisfied: propcache>=0.2.0 in /usr/local/lib/python3.11/dist-packages (from aiohttp<4.0.0,>=3.11.14->langchain-tavily) (0.3.2)\n",
            "Requirement already satisfied: yarl<2.0,>=1.17.0 in /usr/local/lib/python3.11/dist-packages (from aiohttp<4.0.0,>=3.11.14->langchain-tavily) (1.20.1)\n",
            "Requirement already satisfied: langchain-text-splitters<1.0.0,>=0.3.8 in /usr/local/lib/python3.11/dist-packages (from langchain<0.4.0,>=0.3.20->langchain-tavily) (0.3.8)\n",
            "Requirement already satisfied: langsmith<0.4,>=0.1.17 in /usr/local/lib/python3.11/dist-packages (from langchain<0.4.0,>=0.3.20->langchain-tavily) (0.3.45)\n",
            "Requirement already satisfied: pydantic<3.0.0,>=2.7.4 in /usr/local/lib/python3.11/dist-packages (from langchain<0.4.0,>=0.3.20->langchain-tavily) (2.11.7)\n",
            "Requirement already satisfied: SQLAlchemy<3,>=1.4 in /usr/local/lib/python3.11/dist-packages (from langchain<0.4.0,>=0.3.20->langchain-tavily) (2.0.41)\n",
            "Requirement already satisfied: PyYAML>=5.3 in /usr/local/lib/python3.11/dist-packages (from langchain<0.4.0,>=0.3.20->langchain-tavily) (6.0.2)\n",
            "Requirement already satisfied: tenacity!=8.4.0,<10.0.0,>=8.1.0 in /usr/local/lib/python3.11/dist-packages (from langchain-core<0.4.0,>=0.3.15->langchain-tavily) (9.1.2)\n",
            "Requirement already satisfied: jsonpatch<2.0,>=1.33 in /usr/local/lib/python3.11/dist-packages (from langchain-core<0.4.0,>=0.3.15->langchain-tavily) (1.33)\n",
            "Requirement already satisfied: packaging<25,>=23.2 in /usr/local/lib/python3.11/dist-packages (from langchain-core<0.4.0,>=0.3.15->langchain-tavily) (24.2)\n",
            "Requirement already satisfied: typing-extensions>=4.7 in /usr/local/lib/python3.11/dist-packages (from langchain-core<0.4.0,>=0.3.15->langchain-tavily) (4.14.0)\n",
            "Requirement already satisfied: mypy_extensions>=1.0.0 in /usr/local/lib/python3.11/dist-packages (from mypy<2.0.0,>=1.15.0->langchain-tavily) (1.1.0)\n",
            "Requirement already satisfied: pathspec>=0.9.0 in /usr/local/lib/python3.11/dist-packages (from mypy<2.0.0,>=1.15.0->langchain-tavily) (0.12.1)\n",
            "Requirement already satisfied: charset-normalizer<4,>=2 in /usr/local/lib/python3.11/dist-packages (from requests<3.0.0,>=2.32.3->langchain-tavily) (3.4.2)\n",
            "Requirement already satisfied: idna<4,>=2.5 in /usr/local/lib/python3.11/dist-packages (from requests<3.0.0,>=2.32.3->langchain-tavily) (3.10)\n",
            "Requirement already satisfied: urllib3<3,>=1.21.1 in /usr/local/lib/python3.11/dist-packages (from requests<3.0.0,>=2.32.3->langchain-tavily) (2.4.0)\n",
            "Requirement already satisfied: certifi>=2017.4.17 in /usr/local/lib/python3.11/dist-packages (from requests<3.0.0,>=2.32.3->langchain-tavily) (2025.6.15)\n",
            "Requirement already satisfied: jsonpointer>=1.9 in /usr/local/lib/python3.11/dist-packages (from jsonpatch<2.0,>=1.33->langchain-core<0.4.0,>=0.3.15->langchain-tavily) (3.0.0)\n",
            "Requirement already satisfied: httpx<1,>=0.23.0 in /usr/local/lib/python3.11/dist-packages (from langsmith<0.4,>=0.1.17->langchain<0.4.0,>=0.3.20->langchain-tavily) (0.28.1)\n",
            "Requirement already satisfied: orjson<4.0.0,>=3.9.14 in /usr/local/lib/python3.11/dist-packages (from langsmith<0.4,>=0.1.17->langchain<0.4.0,>=0.3.20->langchain-tavily) (3.10.18)\n",
            "Requirement already satisfied: requests-toolbelt<2.0.0,>=1.0.0 in /usr/local/lib/python3.11/dist-packages (from langsmith<0.4,>=0.1.17->langchain<0.4.0,>=0.3.20->langchain-tavily) (1.0.0)\n",
            "Requirement already satisfied: zstandard<0.24.0,>=0.23.0 in /usr/local/lib/python3.11/dist-packages (from langsmith<0.4,>=0.1.17->langchain<0.4.0,>=0.3.20->langchain-tavily) (0.23.0)\n",
            "Requirement already satisfied: annotated-types>=0.6.0 in /usr/local/lib/python3.11/dist-packages (from pydantic<3.0.0,>=2.7.4->langchain<0.4.0,>=0.3.20->langchain-tavily) (0.7.0)\n",
            "Requirement already satisfied: pydantic-core==2.33.2 in /usr/local/lib/python3.11/dist-packages (from pydantic<3.0.0,>=2.7.4->langchain<0.4.0,>=0.3.20->langchain-tavily) (2.33.2)\n",
            "Requirement already satisfied: typing-inspection>=0.4.0 in /usr/local/lib/python3.11/dist-packages (from pydantic<3.0.0,>=2.7.4->langchain<0.4.0,>=0.3.20->langchain-tavily) (0.4.1)\n",
            "Requirement already satisfied: greenlet>=1 in /usr/local/lib/python3.11/dist-packages (from SQLAlchemy<3,>=1.4->langchain<0.4.0,>=0.3.20->langchain-tavily) (3.2.3)\n",
            "Requirement already satisfied: anyio in /usr/local/lib/python3.11/dist-packages (from httpx<1,>=0.23.0->langsmith<0.4,>=0.1.17->langchain<0.4.0,>=0.3.20->langchain-tavily) (4.9.0)\n",
            "Requirement already satisfied: httpcore==1.* in /usr/local/lib/python3.11/dist-packages (from httpx<1,>=0.23.0->langsmith<0.4,>=0.1.17->langchain<0.4.0,>=0.3.20->langchain-tavily) (1.0.9)\n",
            "Requirement already satisfied: h11>=0.16 in /usr/local/lib/python3.11/dist-packages (from httpcore==1.*->httpx<1,>=0.23.0->langsmith<0.4,>=0.1.17->langchain<0.4.0,>=0.3.20->langchain-tavily) (0.16.0)\n",
            "Requirement already satisfied: sniffio>=1.1 in /usr/local/lib/python3.11/dist-packages (from anyio->httpx<1,>=0.23.0->langsmith<0.4,>=0.1.17->langchain<0.4.0,>=0.3.20->langchain-tavily) (1.3.1)\n"
          ]
        }
      ],
      "source": [
        "!pip install -U langchain-tavily\n",
        "from langchain_tavily import TavilySearch"
      ]
    },
    {
      "cell_type": "code",
      "execution_count": 115,
      "id": "wieN0tF7OWdV",
      "metadata": {
        "id": "wieN0tF7OWdV"
      },
      "outputs": [],
      "source": [
        "tavily_tool = TavilySearchResults(api_key=TAVILY_API_KEY)\n",
        "tavily_search_tool = Tool(\n",
        "    name=\"TavilySearch\",\n",
        "    func=tavily_tool.run,\n",
        "    description=\"Use this to get real-time info about attractions, weather, food, culture, and more in a city.\"\n",
        ")"
      ]
    },
    {
      "cell_type": "markdown",
      "id": "6d6cc178",
      "metadata": {
        "id": "6d6cc178"
      },
      "source": [
        "##  Step 4: Enable Function-Calling\n",
        " Define structured functions for your agent to call. Use `openai.FunctionsAgent` or LangChain's `OPENAI_FUNCTIONS` agent type."
      ]
    },
    {
      "cell_type": "markdown",
      "id": "BxDGZfeYRJLE",
      "metadata": {
        "id": "BxDGZfeYRJLE"
      },
      "source": [
        "### === DEFINE AGENT ==="
      ]
    },
    {
      "cell_type": "code",
      "execution_count": 116,
      "id": "fm1xAxniQzVK",
      "metadata": {
        "id": "fm1xAxniQzVK"
      },
      "outputs": [],
      "source": [
        "\n",
        "all_tools = [destination_tool, hotel_tool, tavily_search_tool]\n",
        "\n",
        "MyTravelAgent = initialize_agent(\n",
        "    tools=all_tools,\n",
        "    llm=llm,\n",
        "    agent=AgentType.OPENAI_FUNCTIONS,\n",
        "    verbose=True\n",
        ")"
      ]
    },
    {
      "cell_type": "markdown",
      "id": "uXqW7yIG23Ib",
      "metadata": {
        "id": "uXqW7yIG23Ib"
      },
      "source": [
        "##  Step 5: Fallback Strategy\n",
        " Define a fallback agent or tool to be used when the main tool or agent fails."
      ]
    },
    {
      "cell_type": "markdown",
      "id": "fJnYR2FZWEEK",
      "metadata": {
        "id": "fJnYR2FZWEEK"
      },
      "source": [
        "Step1: Use 2 diff models as per user query context"
      ]
    },
    {
      "cell_type": "code",
      "execution_count": 117,
      "id": "DjmtovAeVL05",
      "metadata": {
        "id": "DjmtovAeVL05"
      },
      "outputs": [],
      "source": [
        "from langchain_openai import ChatOpenAI\n",
        "\n",
        "nano_llm = ChatOpenAI(model=\"gpt-4.1-nano\", temperature=0, api_key=OPENAI_API_KEY)\n",
        "power_llm = ChatOpenAI(model=\"gpt-4\", temperature=0, api_key=OPENAI_API_KEY)\n"
      ]
    },
    {
      "cell_type": "markdown",
      "id": "EBgYQCj_V-b0",
      "metadata": {
        "id": "EBgYQCj_V-b0"
      },
      "source": [
        "Step2: Mention all tools"
      ]
    },
    {
      "cell_type": "code",
      "execution_count": 118,
      "id": "PZJczID4VLyB",
      "metadata": {
        "id": "PZJczID4VLyB"
      },
      "outputs": [],
      "source": [
        "all_tools = [destination_tool, hotel_tool, tavily_search_tool]\n"
      ]
    },
    {
      "cell_type": "markdown",
      "id": "31zE-aptVy0T",
      "metadata": {
        "id": "31zE-aptVy0T"
      },
      "source": [
        "Step3: Create two agents!"
      ]
    },
    {
      "cell_type": "code",
      "execution_count": 119,
      "id": "cGvKl4wcVLuo",
      "metadata": {
        "id": "cGvKl4wcVLuo"
      },
      "outputs": [],
      "source": [
        "from langchain.agents import initialize_agent, AgentType\n",
        "\n",
        "nano_agent = initialize_agent(\n",
        "    tools=all_tools,\n",
        "    llm=nano_llm,\n",
        "    agent=AgentType.OPENAI_FUNCTIONS,\n",
        "    verbose=True\n",
        ")\n",
        "\n",
        "power_agent = initialize_agent(\n",
        "    tools=all_tools,\n",
        "    llm=power_llm,\n",
        "    agent=AgentType.OPENAI_FUNCTIONS,\n",
        "    verbose=True\n",
        ")\n"
      ]
    },
    {
      "cell_type": "markdown",
      "id": "XwdLaqIlV5YH",
      "metadata": {
        "id": "XwdLaqIlV5YH"
      },
      "source": [
        " Step 4: Add fallback logic to route the query"
      ]
    },
    {
      "cell_type": "code",
      "execution_count": 120,
      "id": "zgIDxHWdVLrj",
      "metadata": {
        "id": "zgIDxHWdVLrj"
      },
      "outputs": [],
      "source": [
        "def smart_travel_agent(user_input: str):\n",
        "    try:\n",
        "        if len(user_input.split()) <= 20:\n",
        "            print(\"💡 Using lightweight model (gpt-4.1-nano)...\")\n",
        "            return nano_agent.run(user_input)\n",
        "        else:\n",
        "            print(\"⚙️ Using powerful GPT-4 model...\")\n",
        "            return power_agent.run(user_input)\n",
        "\n",
        "    except Exception as e:\n",
        "        print(f\"⚠️ Error occurred: {e}\")\n",
        "        print(\"🔁 Falling back to GPT-4...\")\n",
        "        return power_agent.run(user_input)\n"
      ]
    },
    {
      "cell_type": "markdown",
      "id": "1c277f35",
      "metadata": {
        "id": "1c277f35"
      },
      "source": [
        "##  Step 6: Integrate LangSmith\n",
        " Wrap your LLM or agent with LangSmith to observe performance and execution flows."
      ]
    },
    {
      "cell_type": "markdown",
      "id": "8R10AhDHQs4I",
      "metadata": {
        "id": "8R10AhDHQs4I"
      },
      "source": [
        "\n",
        "### === LangSmith Tracing ==="
      ]
    },
    {
      "cell_type": "code",
      "execution_count": 121,
      "id": "u4WH6rLbQqbY",
      "metadata": {
        "colab": {
          "base_uri": "https://localhost:8080/"
        },
        "id": "u4WH6rLbQqbY",
        "outputId": "5c32b450-3588-4f6a-990b-13a0eba13783"
      },
      "outputs": [
        {
          "name": "stdout",
          "output_type": "stream",
          "text": [
            "\n",
            "\n",
            "\u001b[1m> Entering new AgentExecutor chain...\u001b[0m\n",
            "\u001b[32;1m\u001b[1;3mPlanning a trip to Japan in December is a fantastic idea! Japan offers a rich blend of traditional culture and modern attractions, especially during the winter season. Here's a detailed plan for your trip:\n",
            "\n",
            "**Places to Visit in Japan (December):**\n",
            "1. Tokyo – Explore the vibrant city, visit temples, shopping districts, and enjoy New Year celebrations.\n",
            "2. Kyoto – Experience traditional temples, shrines, and beautiful winter scenery.\n",
            "3. Osaka – Known for its delicious street food and lively atmosphere.\n",
            "4. Hakone – Enjoy hot springs and views of Mount Fuji.\n",
            "5. Nara – Visit the historic parks and temples.\n",
            "\n",
            "**What to Pack:**\n",
            "- Warm clothing: thermal wear, sweaters, a winter coat\n",
            "- Comfortable walking shoes\n",
            "- Umbrella and raincoat\n",
            "- Travel adapter for electronics\n",
            "- Personal toiletries\n",
            "- Camera for capturing scenic views\n",
            "- Holiday gifts and souvenirs\n",
            "\n",
            "**Key Info for December in Japan:**\n",
            "- Weather: Cold, especially in northern regions and mountainous areas. Temperatures range from 2°C to 12°C.\n",
            "- Festivals: New Year preparations are in full swing; visit temples for Hatsumode (first shrine visit of the year).\n",
            "- Cuisine: Enjoy seasonal dishes like hot pot, oden, and mochi.\n",
            "\n",
            "**Famous Dishes & Places:**\n",
            "- Tokyo: Sushi at Tsukiji Market, Ramen in Shinjuku\n",
            "- Kyoto: Kaiseki (traditional multi-course meal), Yudofu (tofu hot pot) near Zen temples\n",
            "- Osaka: Takoyaki and Okonomiyaki in Dotonbori\n",
            "- Hakone: Black eggs (Kuro-tamago) cooked in hot springs\n",
            "- Nara: Kakinoha-zushi (persimmon leaf sushi)\n",
            "\n",
            "Now, I will proceed to book a hotel in Tokyo for your stay. Please specify your check-in and check-out dates, and the number of guests. Since you want to spend New Year there, I will plan for December 30th to January 2nd. How many guests will be traveling?\u001b[0m\n",
            "\n",
            "\u001b[1m> Finished chain.\u001b[0m\n",
            "Planning a trip to Japan in December is a fantastic idea! Japan offers a rich blend of traditional culture and modern attractions, especially during the winter season. Here's a detailed plan for your trip:\n",
            "\n",
            "**Places to Visit in Japan (December):**\n",
            "1. Tokyo – Explore the vibrant city, visit temples, shopping districts, and enjoy New Year celebrations.\n",
            "2. Kyoto – Experience traditional temples, shrines, and beautiful winter scenery.\n",
            "3. Osaka – Known for its delicious street food and lively atmosphere.\n",
            "4. Hakone – Enjoy hot springs and views of Mount Fuji.\n",
            "5. Nara – Visit the historic parks and temples.\n",
            "\n",
            "**What to Pack:**\n",
            "- Warm clothing: thermal wear, sweaters, a winter coat\n",
            "- Comfortable walking shoes\n",
            "- Umbrella and raincoat\n",
            "- Travel adapter for electronics\n",
            "- Personal toiletries\n",
            "- Camera for capturing scenic views\n",
            "- Holiday gifts and souvenirs\n",
            "\n",
            "**Key Info for December in Japan:**\n",
            "- Weather: Cold, especially in northern regions and mountainous areas. Temperatures range from 2°C to 12°C.\n",
            "- Festivals: New Year preparations are in full swing; visit temples for Hatsumode (first shrine visit of the year).\n",
            "- Cuisine: Enjoy seasonal dishes like hot pot, oden, and mochi.\n",
            "\n",
            "**Famous Dishes & Places:**\n",
            "- Tokyo: Sushi at Tsukiji Market, Ramen in Shinjuku\n",
            "- Kyoto: Kaiseki (traditional multi-course meal), Yudofu (tofu hot pot) near Zen temples\n",
            "- Osaka: Takoyaki and Okonomiyaki in Dotonbori\n",
            "- Hakone: Black eggs (Kuro-tamago) cooked in hot springs\n",
            "- Nara: Kakinoha-zushi (persimmon leaf sushi)\n",
            "\n",
            "Now, I will proceed to book a hotel in Tokyo for your stay. Please specify your check-in and check-out dates, and the number of guests. Since you want to spend New Year there, I will plan for December 30th to January 2nd. How many guests will be traveling?\n"
          ]
        }
      ],
      "source": [
        "@traceable(name=\"MyTravelAgent\")\n",
        "def run_travel_agent(query):\n",
        "    return MyTravelAgent.run(query)\n",
        "\n",
        "# === EXAMPLE CALL ===\n",
        "if __name__ == \"__main__\":\n",
        "    user_query = \"Plan a trip to Japan in December. Suggest places, what to pack and key info. Give me a detail of dishes according to the famous places in Japan. book a hotel for me in tokyo. I would Like to spend my New Year.\"\n",
        "    print(run_travel_agent(user_query))\n",
        "\n"
      ]
    },
    {
      "cell_type": "code",
      "execution_count": 122,
      "id": "lIWK6Ef7UwTo",
      "metadata": {
        "colab": {
          "base_uri": "https://localhost:8080/"
        },
        "id": "lIWK6Ef7UwTo",
        "outputId": "df439249-c997-4154-be5e-dd25ebd7a7fc"
      },
      "outputs": [
        {
          "name": "stdout",
          "output_type": "stream",
          "text": [
            "Visit your LangSmith project dashboard here: https://smith.langchain.com/\n",
            "After logging in, you should see your 'MyTravelAgent' project and its traces.\n"
          ]
        }
      ],
      "source": [
        "print(\"Visit your LangSmith project dashboard here: https://smith.langchain.com/\")\n",
        "print(\"After logging in, you should see your 'MyTravelAgent' project and its traces.\")"
      ]
    },
    {
      "cell_type": "markdown",
      "id": "Skpt_fWHy6Hw",
      "metadata": {
        "id": "Skpt_fWHy6Hw"
      },
      "source": [
        "# === Step7: GRADIO UI ==="
      ]
    },
    {
      "cell_type": "code",
      "execution_count": 123,
      "id": "KefU64EwyNyI",
      "metadata": {
        "colab": {
          "base_uri": "https://localhost:8080/",
          "height": 650
        },
        "id": "KefU64EwyNyI",
        "outputId": "83675ea9-0ae9-4f73-b52c-ab38131180f9"
      },
      "outputs": [
        {
          "name": "stdout",
          "output_type": "stream",
          "text": [
            "It looks like you are running Gradio on a hosted a Jupyter notebook. For the Gradio app to work, sharing must be enabled. Automatically setting `share=True` (you can turn this off by setting `share=False` in `launch()` explicitly).\n",
            "\n",
            "Colab notebook detected. To show errors in colab notebook, set debug=True in launch()\n",
            "* Running on public URL: https://62c6aaf37b1d692764.gradio.live\n",
            "\n",
            "This share link expires in 1 week. For free permanent hosting and GPU upgrades, run `gradio deploy` from the terminal in the working directory to deploy to Hugging Face Spaces (https://huggingface.co/spaces)\n"
          ]
        },
        {
          "data": {
            "text/html": [
              "<div><iframe src=\"https://62c6aaf37b1d692764.gradio.live\" width=\"100%\" height=\"500\" allow=\"autoplay; camera; microphone; clipboard-read; clipboard-write;\" frameborder=\"0\" allowfullscreen></iframe></div>"
            ],
            "text/plain": [
              "<IPython.core.display.HTML object>"
            ]
          },
          "metadata": {},
          "output_type": "display_data"
        },
        {
          "data": {
            "text/plain": []
          },
          "execution_count": 123,
          "metadata": {},
          "output_type": "execute_result"
        }
      ],
      "source": [
        "\n",
        "def respond_to_user(query):\n",
        "    return run_travel_agent(query)\n",
        "\n",
        "demo = gr.Interface(\n",
        "    fn=respond_to_user,\n",
        "    inputs=gr.Textbox(label=\"Ask your travel assistant anything\"),\n",
        "    outputs=gr.Textbox(label=\"Response\"),\n",
        "    title=\"🌍 AI Travel Agent\",\n",
        "    description=\"Plan trips, get packing tips, book hotels, and explore cities.\"\n",
        ")\n",
        "\n",
        "demo.launch()"
      ]
    },
    {
      "cell_type": "markdown",
      "id": "dc5e006f",
      "metadata": {
        "id": "dc5e006f"
      },
      "source": [
        "##  (Bonus) Step 8: Define a Workflow using Agentic\n",
        " Use the `agentic` library to define a step-by-step flow your agent follows."
      ]
    },
    {
      "cell_type": "markdown",
      "id": "000eef2b",
      "metadata": {
        "id": "000eef2b"
      },
      "source": [
        " Submission Checklist\n",
        "- [ ] Agent runs end-to-end on your chosen use case\n",
        "- [ ] At least one custom tool is integrated\n",
        "- [ ] Function-calling works with tools\n",
        "- [ ] LangSmith integration logs all calls\n",
        "- [ ] Fallback logic is demonstrated\n",
        "- [ ] Bonus: Agentic workflow is defined"
      ]
    },
    {
      "cell_type": "markdown",
      "id": "10d4f245",
      "metadata": {
        "id": "10d4f245"
      },
      "source": [
        "##  Grading (100 pts )\n"
      ]
    },
    {
      "cell_type": "markdown",
      "id": "071c8888",
      "metadata": {
        "id": "071c8888"
      },
      "source": [
        "##  Tip\n",
        "You are free to choose **any use case** — be creative but keep your design modular and well-commented!"
      ]
    }
  ],
  "metadata": {
    "colab": {
      "provenance": []
    },
    "kernelspec": {
      "display_name": "Python 3",
      "name": "python3"
    },
    "language_info": {
      "name": "python"
    }
  },
  "nbformat": 4,
  "nbformat_minor": 5
}
